{
 "metadata": {
  "kernelspec": {
   "codemirror_mode": {
    "name": "ipython",
    "version": 2
   },
   "display_name": "IPython (Python 2)",
   "language": "python",
   "name": "python2"
  },
  "name": "",
  "signature": "sha256:ee5439390db4158dee27a32c32fa4bfc2a11eeadce75d16130bc7dbd3afc59ed"
 },
 "nbformat": 3,
 "nbformat_minor": 0,
 "worksheets": [
  {
   "cells": [
    {
     "cell_type": "heading",
     "level": 1,
     "metadata": {},
     "source": [
      "Procedimiento para resolver problema\n"
     ]
    },
    {
     "cell_type": "heading",
     "level": 3,
     "metadata": {},
     "source": [
      "Se tiene que el campo magnetico est\u00e1 aproximadamente dado por el campo de un dipolo:\n",
      "$$\\vec{B}_{dip} = -\\frac{B_0 R_T^3}{r^5}[3xz\\hat{x} + 3yz\\hat{y} + (2z^2\n",
      "- x^2 -y^2)\\hat{z}]$$\n",
      "\n",
      "la fuerza relativista esta dada por \n",
      "\n",
      "$$\\frac{d(\\gamma m \\vec{v})}{dt} = q\\vec{v}\\times\\vec{B}$$\n",
      "\n",
      "Utilizando el hecho de que la velocidad solo cambia su direcci\u00f3n y no magnitud para este tipo de interacci\u00f3n, se tiene:\n",
      "\n",
      "$$ \\vec{a} = \\frac{q}{m\\gamma} \\vec{v}\\times \\vec{B}$$\n",
      "\n",
      "La velocidad inicial se obtiene de la energia cinetica incial:\n",
      "\n",
      "$$ v = c \\sqrt{  1  - \\frac{m\u00b2c\u2074}{(K + mc\u00b2)\u00b2}  } $$\n",
      "\n",
      "Para las condiciones dadas se tiene que:\n",
      "$$ \\vec{v}\\times \\vec{B}= (v_yB_z - v_zB_y)\\hat{i} +  ( v_zB_x - v_xB_z) \\hat{j} +   (v_xB_y -  v_yB_x ) \\hat{k}  $$\n",
      "\n",
      "$$ \\vec{a} = -\\frac{qB_0 R_T^3}{m\\gamma r^5} \\{  ( v_y( 2z\u00b2-x\u00b2-y\u00b2) - 3yzv_z)\\hat{i} + ( 3xzv_z - v_x( 2z\u00b2-x\u00b2-y\u00b2) ) \\hat{j} +     (3v_x yz - 3xzv_y) \\hat{k}             \\}$$\n",
      "\n",
      "\n",
      "Utilizando todo esto, se hace un Runge Kutta de 4to orden utilizando pasos muy peque\u00f1os ( $ dt = 10^{-5} $ ) , debido a las velocidades relativistas que hacen que avance rapidamente el proton."
     ]
    },
    {
     "cell_type": "heading",
     "level": 1,
     "metadata": {},
     "source": []
    }
   ],
   "metadata": {}
  }
 ]
}