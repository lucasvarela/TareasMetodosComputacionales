{
 "metadata": {
  "name": "",
  "signature": "sha256:1334f901f88f691d6f02d0dfb74571328cba481b68b2bf7f60968135376f1586"
 },
 "nbformat": 3,
 "nbformat_minor": 0,
 "worksheets": []
}