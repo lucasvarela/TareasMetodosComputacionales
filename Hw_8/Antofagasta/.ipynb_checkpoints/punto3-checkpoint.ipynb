{
 "metadata": {
  "name": ""
 },
 "nbformat": 3,
 "nbformat_minor": 0,
 "worksheets": [
  {
   "cells": [
    {
     "cell_type": "code",
     "collapsed": false,
     "input": [
      "%pylab inline\n",
      "import matplotlib.pyplot as plt\n",
      "import numpy as np\n",
      "import os \n",
      "import shutil "
     ],
     "language": "python",
     "metadata": {},
     "outputs": [
      {
       "output_type": "stream",
       "stream": "stdout",
       "text": [
        "Populating the interactive namespace from numpy and matplotlib\n"
       ]
      }
     ],
     "prompt_number": 2
    },
    {
     "cell_type": "heading",
     "level": 3,
     "metadata": {},
     "source": [
      "Punto 3, TAREA 8 Metodos Computacionales, Antofagasta.\n",
      "Manuel Ariza & Lucas Varela"
     ]
    },
    {
     "cell_type": "code",
     "collapsed": false,
     "input": [
      "archivo=np.loadtxt(\"antofagasta.dat\")"
     ],
     "language": "python",
     "metadata": {},
     "outputs": [],
     "prompt_number": 4
    },
    {
     "cell_type": "code",
     "collapsed": false,
     "input": [
      "#Llamando las filas\n",
      "latitud=archivo[:,0]\n",
      "longitud=archivo[:,1]\n",
      "ulat=archivo[:,2]\n",
      "errorlat=archivo[:,3]\n",
      "ulon=archivo[:,4]\n",
      "errorlon=archivo[:,5]\n",
      "filas=len(archivo)"
     ],
     "language": "python",
     "metadata": {},
     "outputs": [],
     "prompt_number": 14
    },
    {
     "cell_type": "code",
     "collapsed": false,
     "input": [],
     "language": "python",
     "metadata": {},
     "outputs": [],
     "prompt_number": 15
    },
    {
     "cell_type": "code",
     "collapsed": false,
     "input": [
      "#http://www.gabrielortiz.com/index.asp?Info=058a\n",
      "#Convirtiendo coordenadas geograficas a UTM\n",
      "#In UTM coordinates, Chile is in Zone 19S\n"
     ],
     "language": "python",
     "metadata": {},
     "outputs": []
    }
   ],
   "metadata": {}
  }
 ]
}