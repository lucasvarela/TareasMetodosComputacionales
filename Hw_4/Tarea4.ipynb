{
 "metadata": {
  "kernelspec": {
   "codemirror_mode": {
    "name": "ipython",
    "version": 2
   },
   "display_name": "IPython (Python 2)",
   "language": "python",
   "name": "python2"
  },
  "name": "",
  "signature": "sha256:36324e8c2e46ce5a54c44f162b303048889411199a3f9c00aa3927e005be4ade"
 },
 "nbformat": 3,
 "nbformat_minor": 0,
 "worksheets": [
  {
   "cells": [
    {
     "cell_type": "code",
     "collapsed": false,
     "input": [
      "%pylab inline \n",
      "from subprocess import call\n",
      "from os import listdir"
     ],
     "language": "python",
     "metadata": {},
     "outputs": [
      {
       "output_type": "stream",
       "stream": "stdout",
       "text": [
        "Populating the interactive namespace from numpy and matplotlib\n"
       ]
      },
      {
       "output_type": "stream",
       "stream": "stderr",
       "text": [
        "WARNING: pylab import has clobbered these variables: ['indices']\n",
        "`%matplotlib` prevents importing * from pylab and numpy\n"
       ]
      }
     ],
     "prompt_number": 150
    },
    {
     "cell_type": "heading",
     "level": 5,
     "metadata": {},
     "source": [
      "Primero se obtienen los datos recopilados por los estudiantes. De estos datos se construye la matriz $G^{ij} = \\frac{{t_i}^{j}}{j!}$, donde $t_i$ corresponde al tiempo de la iesima fila de la primera columna de un archivo (despues de organizarlo \"sort\").  Se utiliza un programa en C que recibe una matriz cuadrada $A$ y un vector columna $b$, resolviendo la ecuacion $Ax=b$. Para esto se crea la matriz $A = G^TG$ y el vector columna $b=G^Ty$, donde $y$ es el vector de alturas medidas."
     ]
    },
    {
     "cell_type": "code",
     "collapsed": false,
     "input": [
      "archivos = array(sorted(listdir(\"./datos\")))\n",
      "num_exp = size(archivos)"
     ],
     "language": "python",
     "metadata": {},
     "outputs": [],
     "prompt_number": 151
    },
    {
     "cell_type": "code",
     "collapsed": false,
     "input": [
      "for a in archivos:\n",
      "    \n",
      "    datos = loadtxt(\"./datos/\"+a).T\n",
      "        \n",
      "    tiempos = datos[0]\n",
      "    alturas = datos[1]\n",
      "    num_ts = size(tiempos)\n",
      "    \n",
      "    #A\n",
      "    G = ones((num_ts,3))\n",
      "    G[:,1] = tiempos\n",
      "    G[:,2] = 0.5*(tiempos**2)\n",
      "    G = matrix(G)\n",
      "    G_T = matrix(G.T)\n",
      "    \n",
      "    A = G_T*G\n",
      " \n",
      "    y = matrix(alturas).T\n",
      "    \n",
      "    b = G_T*y\n",
      "      \n",
      "    #Imprimir A y b en archivos .dat\n",
      "    \n",
      "    archivoA = open(\"./A/\"+a,'w')\n",
      "\n",
      "    archivoA.write(str(3)+\" \"+str(3)+\"\\n\")\n",
      "    \n",
      "    for i in range (3):\n",
      "        archivoA.write( str(A[(i,0)]) +\" \"+ str(A[(i,1)]) +\" \"+ str(A[(i,2)]) +\"\\n\")\n",
      "\n",
      "    archivoA.close()\n",
      "    \n",
      "    archivob = open(\"./b/\"+a,'w')\n",
      "\n",
      "    archivob.write(str(3)+\" \"+str(1)+\"\\n\")\n",
      "    \n",
      "    for i in range (3):\n",
      "        archivob.write( str(b[(i,0)]) +\"\\n\")\n",
      "\n",
      "    archivob.close()"
     ],
     "language": "python",
     "metadata": {},
     "outputs": [],
     "prompt_number": 152
    },
    {
     "cell_type": "code",
     "collapsed": false,
     "input": [
      "#Compila\n",
      "! cc chol.c -lm\n",
      "\n",
      "#Archivo de resultados\n",
      "\n",
      "resultadosP1 = open(\"./resultados_P1.dat\",'w')\n",
      "\n",
      "thetas = zeros(len(archivos))\n",
      "phis = zeros(len(archivos))\n",
      "gravedades = zeros(len(archivos))\n",
      "velocidades_iniciales = zeros(len(archivos))\n",
      "alturas_iniciales = zeros(len(archivos))\n",
      "\n",
      "\n",
      "i=0\n",
      "for a in archivos:\n",
      "\n",
      "    #Ejecuta\n",
      "    comando = \"./a.out ./A/\"+a+\" ./b/\"+a+\"> ./m/\"+a\n",
      "    retcode = call(comando, shell = True) \n",
      "\n",
      "    #Phi y Theta\n",
      "    nombre = a.split('_')\n",
      "    theta, phi = float(nombre[2]), float(nombre[4].split('.dat')[0])\n",
      "    \n",
      "    parametros = loadtxt(\"./m/\"+a)\n",
      "    y_0 = parametros[0]\n",
      "    v_0 = parametros[1]\n",
      "    g = parametros[2]\n",
      "    \n",
      "    thetas[i] = theta\n",
      "    phis[i]\n",
      "    gravedades[i] = g\n",
      "    alturas_iniciales[i] = y_0\n",
      "    velocidades_iniciales[i] = v_0  \n",
      "    \n",
      "    resultadosP1.write( str(theta) +\" \"+ str(phi) +\" \"+ str(y_0) +\" \"+ str(v_0) +\" \"+ str(g) +\"\\n\")\n",
      "    \n",
      "    i = i + 1\n",
      " \n",
      "resultadosP1.close()"
     ],
     "language": "python",
     "metadata": {},
     "outputs": [],
     "prompt_number": 169
    },
    {
     "cell_type": "code",
     "collapsed": false,
     "input": [
      "resultadosP1 = loadtxt(\"./resultados_P1.dat\")"
     ],
     "language": "python",
     "metadata": {},
     "outputs": [],
     "prompt_number": 170
    },
    {
     "cell_type": "code",
     "collapsed": false,
     "input": [
      "scatter(thetas,gravedades,lw = 0)\n",
      "ylim([-10,-7.5])\n",
      "xlim([0,180])\n",
      "pylab.xlabel('$theta$', fontsize = 40)\n",
      "pylab.ylabel('$g$', fontsize = 40)"
     ],
     "language": "python",
     "metadata": {},
     "outputs": [
      {
       "metadata": {},
       "output_type": "pyout",
       "prompt_number": 266,
       "text": [
        "<matplotlib.text.Text at 0x7ff2b80cda90>"
       ]
      },
      {
       "metadata": {},
       "output_type": "display_data",
       "png": "[encoded data removed]",
       "text": [
        "<matplotlib.figure.Figure at 0x7ff2b80b2150>"
       ]
      }
     ],
     "prompt_number": 266
    },
    {
     "cell_type": "heading",
     "level": 5,
     "metadata": {},
     "source": [
      "Para identificar los puntos malos se calcula ${\\chi}^2 = \\sum\\limits_j (\\frac{y_{M,j} - y_{T,j}}{y_T})\u00b2$ , donde $ y_T = y(y_{0,i},v_{0,i},g_{0,i},t_j) $ es la altura del ajuste y $y_{M,j}$ es  la altura medida. Se definen los puntos buenos como los que cumplen ${\\chi}_i^2 < {\\chi}_{0.05}^2 = \\sum\\limits_j 0.05\u00b2$"
     ]
    },
    {
     "cell_type": "code",
     "collapsed": false,
     "input": [
      "#Se borran las gravedades malas\n",
      "\n",
      "def altura_teorica(y0,v0,g,t):\n",
      "    return y0 + v0*t + 0.5*g*t**2\n",
      "\n",
      "buenos_indices = empty(0,dtype = int)\n",
      "\n",
      "j = 0\n",
      "for a in archivos:\n",
      "    \n",
      "    datos = loadtxt(\"./datos/\"+a).T\n",
      "        \n",
      "    tiempos = datos[0]\n",
      "    alturas = datos[1]\n",
      "    num_ts = size(tiempos)\n",
      "    \n",
      "    contador = 0.0\n",
      "    comparador = 0.0\n",
      "    \n",
      "    for i in range(num_ts):\n",
      "        alt_teo = altura_teorica(alturas_iniciales[j],velocidades_iniciales[j],gravedades[j],tiempos[i])\n",
      "        x = ((alt_teo-alturas[i])/alt_teo)**2\n",
      "        e = 0.05**2\n",
      "        contador = contador + x\n",
      "        comparador = comparador + e\n",
      "    \n",
      "    if (contador < comparador):\n",
      "        buenos_indices = append(buenos_indices, j)\n",
      "        \n",
      "    j = j + 1"
     ],
     "language": "python",
     "metadata": {},
     "outputs": [],
     "prompt_number": 177
    },
    {
     "cell_type": "heading",
     "level": 1,
     "metadata": {},
     "source": [
      "Gr\u00e1fica con los puntos definidos como buenos."
     ]
    },
    {
     "cell_type": "code",
     "collapsed": false,
     "input": [
      "ngravedades = gravedades[buenos_indices]\n",
      "nthetas = thetas[buenos_indices]\n",
      "nphis = phis[buenos_indices]\n",
      "nvelocidades_iniciales = velocidades_iniciales[buenos_indices]\n",
      "nalturas_iniciales = alturas_iniciales[buenos_indices]\n",
      "\n",
      "scatter(nthetas,ngravedades,lw = 0)\n",
      "pylab.xlabel('$theta$', fontsize = 40)\n",
      "pylab.ylabel('$g$', fontsize = 40)"
     ],
     "language": "python",
     "metadata": {},
     "outputs": [
      {
       "metadata": {},
       "output_type": "pyout",
       "prompt_number": 265,
       "text": [
        "<matplotlib.text.Text at 0x7ff2b8217e10>"
       ]
      },
      {
       "metadata": {},
       "output_type": "display_data",
       "png": "[encoded data removed]",
       "text": [
        "<matplotlib.figure.Figure at 0x7ff2b82994d0>"
       ]
      }
     ],
     "prompt_number": 265
    },
    {
     "cell_type": "heading",
     "level": 1,
     "metadata": {},
     "source": [
      "Se calcula y gr\u00e1fica el arreglo $ F_i = 1 - \\frac{g_i}{<g_0>} $"
     ]
    },
    {
     "cell_type": "code",
     "collapsed": false,
     "input": [
      "g_0 = mean(ngravedades)\n",
      "\n",
      "F = 1 - ngravedades/g_0\n",
      "num_Fs = len(F)\n",
      "\n",
      "scatter(nthetas,F,c ='b', lw = 0)\n",
      "pylab.xlabel('$theta$', fontsize = 40)\n",
      "pylab.ylabel('$F$', fontsize = 40)"
     ],
     "language": "python",
     "metadata": {},
     "outputs": [
      {
       "metadata": {},
       "output_type": "pyout",
       "prompt_number": 262,
       "text": [
        "<matplotlib.text.Text at 0x7ff2b8299a10>"
       ]
      },
      {
       "metadata": {},
       "output_type": "display_data",
       "png": "[encoded data removed]",
       "text": [
        "<matplotlib.figure.Figure at 0x7ff2b8a54790>"
       ]
      }
     ],
     "prompt_number": 262
    },
    {
     "cell_type": "heading",
     "level": 2,
     "metadata": {},
     "source": [
      "Modelo 1:  $F_1 = a_0cos(2\\theta)+a_1$"
     ]
    },
    {
     "cell_type": "code",
     "collapsed": false,
     "input": [
      "GM1 = ones((num_Fs,2))\n",
      "\n",
      "GM1[:,0] = cos(2*nthetas*pi/180.0)\n",
      "GM1[:,1] = 1.0\n",
      "GM1 = matrix(GM1)\n",
      "GM1_T = matrix(GM1.T)\n",
      "    \n",
      "AM1 = GM1_T*GM1\n",
      " \n",
      "yM1 = matrix(F).T\n",
      " \n",
      "bM1 = GM1_T*yM1\n",
      "\n",
      "print AM1\n",
      "print bM1\n",
      "      \n",
      "#Imprimir A y b en archivos .dat\n",
      "    \n",
      "archivoAM1 = open(\"./AM1.dat\",'w')\n",
      "\n",
      "archivoAM1.write(str(2)+\" \"+str(2)+\"\\n\")\n",
      "    \n",
      "for i in range (2):\n",
      "    archivoAM1.write( str(AM1[(i,0)]) +\" \"+ str(AM1[(i,1)]) +\"\\n\")\n",
      "\n",
      "archivoAM1.close()\n",
      "    \n",
      "archivobM1 = open(\"./bM1.dat\",'w')\n",
      "\n",
      "archivobM1.write(str(2)+\" \"+str(1)+\"\\n\")\n",
      "    \n",
      "for i in range (2):\n",
      "    archivobM1.write( str(bM1[(i,0)]) +\"\\n\")\n",
      "\n",
      "archivobM1.close()"
     ],
     "language": "python",
     "metadata": {},
     "outputs": [
      {
       "output_type": "stream",
       "stream": "stdout",
       "text": [
        "[[ 438.67402994 -279.87372285]\n",
        " [-279.87372285  884.        ]]\n",
        "[[ -3.63295034e+01]\n",
        " [  5.96189764e-14]]\n"
       ]
      }
     ],
     "prompt_number": 196
    },
    {
     "cell_type": "code",
     "collapsed": false,
     "input": [
      "#Ejecuta\n",
      "comando = \"./a.out ./AM1.dat ./bM1.dat > ./mM1.dat\"\n",
      "retcode = call(comando, shell=True) \n",
      "\n",
      "parametrosM1 = loadtxt(\"./mM1.dat\")\n",
      "a_0 = parametrosM1[0]\n",
      "a_1 = parametrosM1[1]\n",
      "\n",
      "    \n",
      "print a_0, a_1"
     ],
     "language": "python",
     "metadata": {},
     "outputs": [
      {
       "output_type": "stream",
       "stream": "stdout",
       "text": [
        "-0.103779 -0.032856\n"
       ]
      }
     ],
     "prompt_number": 197
    },
    {
     "cell_type": "code",
     "collapsed": false,
     "input": [
      "F_modelo = a_0*cos(2*nthetas*pi/180.0) + a_1"
     ],
     "language": "python",
     "metadata": {},
     "outputs": [],
     "prompt_number": 200
    },
    {
     "cell_type": "code",
     "collapsed": false,
     "input": [
      "scatter(nthetas, F, c = 'b', s = 2, alpha = 0.5, lw = 0)\n",
      "scatter(nthetas, F_modelo, c = 'g', s = 2, lw = 0)\n",
      "pylab.xlabel('$theta$', fontsize = 40)\n",
      "pylab.ylabel('$F$', fontsize = 40)\n",
      "legend([\"$F$\",\"$F_1$\"])"
     ],
     "language": "python",
     "metadata": {},
     "outputs": [
      {
       "metadata": {},
       "output_type": "pyout",
       "prompt_number": 263,
       "text": [
        "<matplotlib.legend.Legend at 0x7ff2b8248e50>"
       ]
      },
      {
       "metadata": {},
       "output_type": "display_data",
       "png": "[encoded data removed]",
       "text": [
        "<matplotlib.figure.Figure at 0x7ff2b8305190>"
       ]
      }
     ],
     "prompt_number": 263
    },
    {
     "cell_type": "heading",
     "level": 1,
     "metadata": {},
     "source": [
      "Modelo 2 : $F_2 = a_0 + a_1\\theta + a_2\\theta\u00b2 $"
     ]
    },
    {
     "cell_type": "code",
     "collapsed": false,
     "input": [
      "GM2 = ones((num_Fs,3))\n",
      "\n",
      "GM2[:,0] = 1.0\n",
      "GM2[:,1] = nthetas \n",
      "GM2[:,2] = nthetas**2 \n",
      "GM2 = matrix(GM2)\n",
      "GM2_T = matrix(GM2.T)\n",
      "    \n",
      "AM2 = GM2_T*GM2\n",
      " \n",
      "yM2 = matrix(F).T\n",
      " \n",
      "bM2 = GM2_T*yM2\n",
      "\n",
      "print AM2\n",
      "print bM2\n",
      "      \n",
      "#Imprimir A y b en archivos .dat\n",
      "    \n",
      "archivoAM2 = open(\"./AM2.dat\",'w')\n",
      "\n",
      "archivoAM2.write(str(3)+\" \"+str(3)+\"\\n\")\n",
      "    \n",
      "for i in range (3):\n",
      "    archivoAM2.write( str(AM2[(i,0)]) +\" \"+ str(AM2[(i,1)]) +\" \"+ str(AM2[(i,2)]) +\"\\n\")\n",
      "\n",
      "archivoAM2.close()\n",
      "    \n",
      "archivobM2 = open(\"./bM2.dat\",'w')\n",
      "\n",
      "archivobM2.write(str(3)+\" \"+str(1)+\"\\n\")\n",
      "    \n",
      "for i in range (3):\n",
      "    archivobM2.write( str(bM2[(i,0)]) +\"\\n\")\n",
      "\n",
      "archivobM2.close()"
     ],
     "language": "python",
     "metadata": {},
     "outputs": [
      {
       "output_type": "stream",
       "stream": "stdout",
       "text": [
        "[[  8.84000000e+02   7.90896000e+04   8.50681306e+06]\n",
        " [  7.90896000e+04   8.50681306e+06   1.01421912e+09]\n",
        " [  8.50681306e+06   1.01421912e+09   1.29518518e+11]]\n",
        "[[  5.96189764e-14]\n",
        " [  2.99517870e+02]\n",
        " [ -4.81609779e+04]]\n"
       ]
      }
     ],
     "prompt_number": 223
    },
    {
     "cell_type": "code",
     "collapsed": false,
     "input": [
      "#Ejecuta\n",
      "comando = \"./a.out ./AM2.dat ./bM2.dat > ./mM2.dat\"\n",
      "retcode = call(comando, shell=True) \n",
      "\n",
      "parametrosM2 = loadtxt(\"./mM2.dat\")\n",
      "b_0 = parametrosM2[0]\n",
      "b_1 = parametrosM2[1]\n",
      "b_2 = parametrosM2[2]\n",
      "    \n",
      "print b_0, b_1, b_2"
     ],
     "language": "python",
     "metadata": {},
     "outputs": [
      {
       "output_type": "stream",
       "stream": "stdout",
       "text": [
        "-0.237083 0.006435 -3.5e-05\n"
       ]
      }
     ],
     "prompt_number": 205
    },
    {
     "cell_type": "code",
     "collapsed": false,
     "input": [
      "F_modelo_2 = b_0 + b_1*nthetas + b_2*nthetas**2 "
     ],
     "language": "python",
     "metadata": {},
     "outputs": [],
     "prompt_number": 206
    },
    {
     "cell_type": "code",
     "collapsed": false,
     "input": [
      "scatter(nthetas, F, c = 'b', s = 2, lw = 0)\n",
      "scatter(nthetas, F_modelo_2, c = 'g', s = 2, lw = 0)\n",
      "pylab.xlabel('$theta$', fontsize = 40)\n",
      "pylab.ylabel('$F$', fontsize = 40)\n",
      "legend([\"$F$\",\"$F_2$\"])"
     ],
     "language": "python",
     "metadata": {},
     "outputs": [
      {
       "metadata": {},
       "output_type": "pyout",
       "prompt_number": 264,
       "text": [
        "<matplotlib.legend.Legend at 0x7ff2b81ee8d0>"
       ]
      },
      {
       "metadata": {},
       "output_type": "display_data",
       "png": "[encoded data removed]",
       "text": [
        "<matplotlib.figure.Figure at 0x7ff2b812ac50>"
       ]
      }
     ],
     "prompt_number": 264
    },
    {
     "cell_type": "heading",
     "level": 5,
     "metadata": {},
     "source": [
      "Comparando los $\\chi\u00b2$ de los dos modelos, se concluye que modelo 1, $ F_1 = a_0cos(2\\theta) + a_1 $ ,es el mejor entre los dos para describir las variaciones de la gravedad con respecto al \u00e1ngulo azimutal ya que  $\\chi_1\u00b2 < \\chi_2\u00b2$ . "
     ]
    },
    {
     "cell_type": "code",
     "collapsed": false,
     "input": [
      "chi1 = (F_modelo - F)**2\n",
      "chi1 = sum(chi1)\n",
      "chi2 = (F_modelo_2 - F)**2\n",
      "chi2 = sum(chi2)\n",
      "\n",
      "print chi1, chi2"
     ],
     "language": "python",
     "metadata": {},
     "outputs": [
      {
       "output_type": "stream",
       "stream": "stdout",
       "text": [
        "0.232949514241 0.385685402772\n"
       ]
      }
     ],
     "prompt_number": 219
    }
   ],
   "metadata": {}
  }
 ]
}